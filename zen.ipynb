{
 "cells": [
  {
   "cell_type": "code",
   "execution_count": null,
   "metadata": {},
   "outputs": [],
   "source": [
    "# import s (a string) and encode (a function)\n",
    "from this import s\n",
    "from codecs import encode\n",
    "\n",
    "# decode s and assign to a variable called zen\n",
    "zen = encode(s, \"rot13\")\n",
    "\n",
    "# Explore string methods\n",
    "zen.upper()\n",
    "zen.lower()\n",
    "zen.title()\n",
    "zen.swapcase()\n",
    "\n",
    "# Obtain a list of words and line from zen\n",
    "word_list = zen.split()\n",
    "line_list = zen.splitlines()\n",
    "\n",
    "# Count characters, words, and lines\n",
    "len(zen)\n",
    "len(word_list)\n",
    "len(line_list)\n",
    "\n",
    "# Count a specific word (better) in zen \n",
    "zen.count(\"better\")\n",
    "word_list.count(\"better\")\n",
    "\n",
    "# Convert to uppercase, get the last word\n",
    "zen.upper().split().pop()\n",
    "\n",
    "(zen\n",
    " .upper()\n",
    " .split()\n",
    " .pop()\n",
    ")"
   ]
  }
 ],
 "metadata": {
  "kernelspec": {
   "display_name": "Python 3",
   "language": "python",
   "name": "python3"
  },
  "language_info": {
   "codemirror_mode": {
    "name": "ipython",
    "version": 3
   },
   "file_extension": ".py",
   "mimetype": "text/x-python",
   "name": "python",
   "nbconvert_exporter": "python",
   "pygments_lexer": "ipython3",
   "version": "3.8.1"
  }
 },
 "nbformat": 4,
 "nbformat_minor": 4
}
